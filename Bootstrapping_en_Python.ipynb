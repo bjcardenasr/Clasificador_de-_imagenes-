{
  "nbformat": 4,
  "nbformat_minor": 0,
  "metadata": {
    "colab": {
      "provenance": [],
      "include_colab_link": true
    },
    "kernelspec": {
      "name": "python3",
      "display_name": "Python 3"
    },
    "language_info": {
      "name": "python"
    }
  },
  "cells": [
    {
      "cell_type": "markdown",
      "metadata": {
        "id": "view-in-github",
        "colab_type": "text"
      },
      "source": [
        "<a href=\"https://colab.research.google.com/github/bjcardenasr/Clasificador_de-_imagenes-/blob/main/Bootstrapping_en_Python.ipynb\" target=\"_parent\"><img src=\"https://colab.research.google.com/assets/colab-badge.svg\" alt=\"Open In Colab\"/></a>"
      ]
    },
    {
      "cell_type": "markdown",
      "source": [
        "#### Importamos las librerías necesarias para el análisis"
      ],
      "metadata": {
        "id": "Esy8eTT9Y0d2"
      }
    },
    {
      "cell_type": "code",
      "execution_count": 1,
      "metadata": {
        "id": "DVk5cURAYhOq"
      },
      "outputs": [],
      "source": [
        "import pandas as pd\n",
        "import numpy as np\n",
        "import random"
      ]
    },
    {
      "cell_type": "code",
      "source": [
        "# Creamos una muestra aleatoria de 10,0000 personas que tienen una edad promedio de 34 años\n",
        "data = np.random.normal(loc= 55, size=100000)\n",
        "data"
      ],
      "metadata": {
        "colab": {
          "base_uri": "https://localhost:8080/"
        },
        "id": "yvAAawcmZjT-",
        "outputId": "05658b77-2877-45db-9247-cd5cbdee405a"
      },
      "execution_count": 14,
      "outputs": [
        {
          "output_type": "execute_result",
          "data": {
            "text/plain": [
              "array([54.45654508, 56.46238285, 53.6491614 , ..., 56.18984823,\n",
              "       55.17237412, 54.88665348])"
            ]
          },
          "metadata": {},
          "execution_count": 14
        }
      ]
    },
    {
      "cell_type": "code",
      "source": [
        "# Comprobamos cuál es el promedio de edad de nuestra base\n",
        "data.mean()"
      ],
      "metadata": {
        "colab": {
          "base_uri": "https://localhost:8080/"
        },
        "id": "qzv5NJTFZ9LV",
        "outputId": "f3d483dc-1637-4463-9d7b-74be43394b85"
      },
      "execution_count": 15,
      "outputs": [
        {
          "output_type": "execute_result",
          "data": {
            "text/plain": [
              "55.00313969559597"
            ]
          },
          "metadata": {},
          "execution_count": 15
        }
      ]
    },
    {
      "cell_type": "markdown",
      "source": [
        "#### Iniciamos el procedimiento para calcular el promedio de edad a partir de bootstrapping"
      ],
      "metadata": {
        "id": "ZxPFUkfNaRa8"
      }
    },
    {
      "cell_type": "code",
      "source": [
        "# Vamos a crear 40 muestras de tamaño 5 para estimar el promedio\n",
        "promedio = []\n",
        "for i in range(20):\n",
        "  muestra = random.sample(data.tolist(), 10)\n",
        "  prom = np.mean(muestra)\n",
        "  promedio.append(prom)"
      ],
      "metadata": {
        "id": "FCvH2oSvaPrI"
      },
      "execution_count": 16,
      "outputs": []
    },
    {
      "cell_type": "markdown",
      "source": [
        "La lista llamada promedio que hemos creado va a contener el promedio para las 40 muestras. Para estimar el promedio de la población tenemos que calcular el promedio de la lista promedio."
      ],
      "metadata": {
        "id": "WzDbMqsfbKcT"
      }
    },
    {
      "cell_type": "code",
      "source": [
        "np.mean(promedio)"
      ],
      "metadata": {
        "colab": {
          "base_uri": "https://localhost:8080/"
        },
        "id": "G-gg965VbH5f",
        "outputId": "7f730de0-bac4-416a-c4ea-db0f22010d83"
      },
      "execution_count": 17,
      "outputs": [
        {
          "output_type": "execute_result",
          "data": {
            "text/plain": [
              "54.99439288288725"
            ]
          },
          "metadata": {},
          "execution_count": 17
        }
      ]
    },
    {
      "cell_type": "markdown",
      "source": [
        "Cada vez obtendríamos un resultado diferente. El muestreo por bootstrapping saca promedios de una población creando muestras más pequeñas y se usa para DS e IA para evitar el overfitting. El sobreajuste es un error de modelado que se produce cuando una función se ajusta demasiado a un conjunto limitado de puntos de datos"
      ],
      "metadata": {
        "id": "iY2MIMhHcRS-"
      }
    }
  ]
}